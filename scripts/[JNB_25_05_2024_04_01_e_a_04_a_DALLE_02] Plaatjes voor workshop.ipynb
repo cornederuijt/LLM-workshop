{
 "cells": [
  {
   "cell_type": "markdown",
   "id": "74d01675-e45b-49f8-aafb-299bb172d277",
   "metadata": {},
   "source": [
    "# [JNB_25_05_2024_04_01_e_a_04_a_DALLE_02] Plaatjes voor workshop\n",
    "\n",
    "Volgt op:\n",
    "- [JNB_10_05_2024_04_01_e_a_04_a_DALLE] Pizza Calzone with DALL-E\n",
    "- [25_05_2024_04_01_e_a_00] \"Zijn we creatief genoeg voor ChatGPT?\" Veranderd technology ons, of worden wij veranderd door technologie?"
   ]
  },
  {
   "cell_type": "code",
   "execution_count": 1,
   "id": "e1e30cdb-3c2f-44a3-a877-a98cff0f8704",
   "metadata": {},
   "outputs": [],
   "source": [
    "import os\n",
    "\n",
    "from openai import OpenAI\n",
    "\n",
    "import yaml\n",
    "\n",
    "os.chdir(\"/Users/cornederuijt/github/gpt2bert\")"
   ]
  },
  {
   "cell_type": "code",
   "execution_count": 2,
   "id": "6678b2e0-8c90-4b3b-9849-adcef46c0928",
   "metadata": {},
   "outputs": [],
   "source": [
    "with open('config/keys/keys.yaml', 'r') as file:\n",
    "    openai_key = yaml.safe_load(file)\n",
    "\n",
    "os.environ[\"OPENAI_API_KEY\"] = openai_key['open_ai_key']"
   ]
  },
  {
   "cell_type": "code",
   "execution_count": 3,
   "id": "483989d8-1705-4f50-b710-e205aed864d5",
   "metadata": {},
   "outputs": [
    {
     "data": {
      "text/plain": [
       "'https://oaidalleapiprodscus.blob.core.windows.net/private/org-5mexU5K0Gl5d6VXu1eDrVmde/user-9EUBQp0c3eZNaTb8lGP8aESK/img-yx7AXDjuGdAXLODH9fPNAS39.png?st=2024-05-30T07%3A19%3A59Z&se=2024-05-30T09%3A19%3A59Z&sp=r&sv=2023-11-03&sr=b&rscd=inline&rsct=image/png&skoid=6aaadede-4fb3-4698-a8f6-684d7786b067&sktid=a48cca56-e6da-484e-a814-9c849652bcb3&skt=2024-05-29T23%3A25%3A33Z&ske=2024-05-30T23%3A25%3A33Z&sks=b&skv=2023-11-03&sig=EluqxmRG/FbCavftwi3wGGs1IEcGrsn0CNcsa1HhloA%3D'"
      ]
     },
     "execution_count": 3,
     "metadata": {},
     "output_type": "execute_result"
    }
   ],
   "source": [
    "client = OpenAI()\n",
    "\n",
    "response = client.images.generate(\n",
    "  model=\"dall-e-3\",\n",
    "  prompt=\"\"\"\n",
    "  Make a cartoon picture of the following sentence:\n",
    "  'IT is as much a mirror for our communication as our communication is a mirror to our IT'\n",
    "\n",
    "  Ensure:\n",
    "  - No words are in de picture\n",
    "  - The picture includes a mirror\n",
    "  \"\"\",\n",
    "  size=\"1792x1024\",\n",
    "  quality=\"standard\",\n",
    "  n=1,\n",
    ")\n",
    "\n",
    "image_url = response.data[0].url\n",
    "\n",
    "image_url"
   ]
  },
  {
   "cell_type": "code",
   "execution_count": null,
   "id": "9d5f9104-e6c6-429f-b565-8608cf95e208",
   "metadata": {},
   "outputs": [],
   "source": []
  }
 ],
 "metadata": {
  "kernelspec": {
   "display_name": "ADS",
   "language": "python",
   "name": "ads"
  },
  "language_info": {
   "codemirror_mode": {
    "name": "ipython",
    "version": 3
   },
   "file_extension": ".py",
   "mimetype": "text/x-python",
   "name": "python",
   "nbconvert_exporter": "python",
   "pygments_lexer": "ipython3",
   "version": "3.11.5"
  }
 },
 "nbformat": 4,
 "nbformat_minor": 5
}
